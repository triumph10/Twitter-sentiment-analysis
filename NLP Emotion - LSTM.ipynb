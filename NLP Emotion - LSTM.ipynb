{
 "cells": [
  {
   "cell_type": "code",
   "execution_count": 1,
   "id": "2bf7291a-0674-47d7-b00b-1fcb18816b79",
   "metadata": {},
   "outputs": [],
   "source": [
    "import pandas as pd\n",
    "import numpy as np\n",
    "\n",
    "import seaborn as sns\n",
    "import matplotlib.pyplot as plt\n",
    "\n",
    "import re\n",
    "from sklearn.model_selection import train_test_split\n",
    "from tensorflow.keras.callbacks import EarlyStopping\n",
    "import nltk\n",
    "from nltk.tokenize import word_tokenize\n",
    "from collections import Counter\n",
    "from keras.preprocessing import sequence\n",
    "from sklearn.model_selection import train_test_split\n",
    "from nltk.corpus import stopwords\n",
    "from nltk.stem import PorterStemmer\n",
    "from sklearn.metrics import confusion_matrix\n",
    "from tensorflow.keras.preprocessing.text import Tokenizer\n",
    "from tensorflow.keras.preprocessing.sequence import pad_sequences\n",
    "import io\n",
    "from tensorflow.keras.models import Sequential\n",
    "from tensorflow.keras.layers import Dense, Conv1D, MaxPooling1D, Dropout, Bidirectional, LSTM, Embedding\n",
    "from tensorflow.keras.optimizers import RMSprop, Adam\n",
    "from tensorflow.keras.metrics import Accuracy, F1Score\n",
    "from sklearn.metrics import classification_report\n",
    "\n",
    "import warnings\n",
    "warnings.filterwarnings('ignore')"
   ]
  },
  {
   "cell_type": "code",
   "execution_count": 2,
   "id": "0871ee73-b734-4c67-b7ea-642c026f68a2",
   "metadata": {},
   "outputs": [],
   "source": [
    "df = pd.read_csv(\"cleaned_req_dataset.csv\")\n"
   ]
  },
  {
   "cell_type": "code",
   "execution_count": 3,
   "id": "0cafd63e-65bf-4795-8069-913098d9455b",
   "metadata": {},
   "outputs": [
    {
     "name": "stdout",
     "output_type": "stream",
     "text": [
      "<class 'pandas.core.frame.DataFrame'>\n",
      "RangeIndex: 479938 entries, 0 to 479937\n",
      "Data columns (total 2 columns):\n",
      " #   Column  Non-Null Count   Dtype \n",
      "---  ------  --------------   ----- \n",
      " 0   text    479938 non-null  object\n",
      " 1   label   479938 non-null  int64 \n",
      "dtypes: int64(1), object(1)\n",
      "memory usage: 7.3+ MB\n"
     ]
    }
   ],
   "source": [
    "df.info()"
   ]
  },
  {
   "cell_type": "code",
   "execution_count": 4,
   "id": "9998e1fe-fe9d-4cc5-b455-554d479df8c9",
   "metadata": {
    "scrolled": true
   },
   "outputs": [
    {
     "data": {
      "text/html": [
       "<div>\n",
       "<style scoped>\n",
       "    .dataframe tbody tr th:only-of-type {\n",
       "        vertical-align: middle;\n",
       "    }\n",
       "\n",
       "    .dataframe tbody tr th {\n",
       "        vertical-align: top;\n",
       "    }\n",
       "\n",
       "    .dataframe thead th {\n",
       "        text-align: right;\n",
       "    }\n",
       "</style>\n",
       "<table border=\"1\" class=\"dataframe\">\n",
       "  <thead>\n",
       "    <tr style=\"text-align: right;\">\n",
       "      <th></th>\n",
       "      <th>text</th>\n",
       "      <th>label</th>\n",
       "    </tr>\n",
       "  </thead>\n",
       "  <tbody>\n",
       "    <tr>\n",
       "      <th>0</th>\n",
       "      <td>id feel a bit calmer a bit more reassured etc</td>\n",
       "      <td>2</td>\n",
       "    </tr>\n",
       "    <tr>\n",
       "      <th>1</th>\n",
       "      <td>Do you have any stomachache ?</td>\n",
       "      <td>3</td>\n",
       "    </tr>\n",
       "    <tr>\n",
       "      <th>2</th>\n",
       "      <td>i wound up feeling mad that i didnt watch a hr...</td>\n",
       "      <td>0</td>\n",
       "    </tr>\n",
       "    <tr>\n",
       "      <th>3</th>\n",
       "      <td>i shouldnt be too surprised or impatient but i...</td>\n",
       "      <td>0</td>\n",
       "    </tr>\n",
       "    <tr>\n",
       "      <th>4</th>\n",
       "      <td>Yes . My only recreation is skateboarding .</td>\n",
       "      <td>3</td>\n",
       "    </tr>\n",
       "  </tbody>\n",
       "</table>\n",
       "</div>"
      ],
      "text/plain": [
       "                                                text  label\n",
       "0      id feel a bit calmer a bit more reassured etc      2\n",
       "1                      Do you have any stomachache ?      3\n",
       "2  i wound up feeling mad that i didnt watch a hr...      0\n",
       "3  i shouldnt be too surprised or impatient but i...      0\n",
       "4        Yes . My only recreation is skateboarding .      3"
      ]
     },
     "execution_count": 4,
     "metadata": {},
     "output_type": "execute_result"
    }
   ],
   "source": [
    "df.head()"
   ]
  },
  {
   "cell_type": "markdown",
   "id": "c5592f7c-2361-4416-ae44-505a86b6bafe",
   "metadata": {},
   "source": [
    "### Data Cleaning\n",
    "1. Removing white space\n",
    "2. Removing not numbers or letter characters\n",
    "4. Lowercasing\n",
    "5. Removeing stop words\n",
    "6. Removing URLs\n",
    "7. Removign Number\n",
    "8. Removing specical character"
   ]
  },
  {
   "cell_type": "code",
   "execution_count": 5,
   "id": "4c2aed2e-4153-415e-8d81-4acf8f560ec6",
   "metadata": {},
   "outputs": [],
   "source": [
    "def text_cleaning(text, stopwords):\n",
    "    # removing space\n",
    "    text = text.str.replace(r'\\s+', ' ', regex = True)\n",
    "    # removing non number and letter characters\n",
    "    text = text.apply(lambda x: re.sub(r'[^a-zA-Z\\s]', '', x))\n",
    "    # lowercasing\n",
    "    text = text.str.lower()\n",
    "    # removing stop words\n",
    "    text = text.apply(lambda x: ' '.join([word for word in x.split() if word not in (stopwords)]))\n",
    "    # removing number\n",
    "    text = text.str.replace(r'\\d+', '', regex = True)\n",
    "    # removing url\n",
    "    text = text.str.replace(r'http\\S+', '', regex = True)\n",
    "    # removing special character\n",
    "    text = text.str.replace(r'[^\\w\\s]', '', regex = True)\n",
    "    # removing url\n",
    "    text = text.str.replace(r'http\\S+', '', regex = True)\n",
    "\n",
    "    return text"
   ]
  },
  {
   "cell_type": "code",
   "execution_count": 6,
   "id": "523b622f-b06e-4406-bb51-4c1dad28384f",
   "metadata": {},
   "outputs": [],
   "source": [
    "stopwords_list = stopwords.words('english')\n",
    "df['text'] = text_cleaning(df['text'], stopwords_list)"
   ]
  },
  {
   "cell_type": "markdown",
   "id": "a2d87c09-88d6-4152-b66b-ad9e2d597ffa",
   "metadata": {},
   "source": [
    "### Split Train Test Set"
   ]
  },
  {
   "cell_type": "code",
   "execution_count": 7,
   "id": "79a4f96f-89c5-470f-8a5f-0fb02db923c4",
   "metadata": {},
   "outputs": [
    {
     "name": "stdout",
     "output_type": "stream",
     "text": [
      "The shape of X_train is  (383950,)\n",
      "The shape of X_test is  (95988,)\n",
      "The shape of y_train is (383950,)\n",
      "The shape of y_test is (95988,)\n"
     ]
    }
   ],
   "source": [
    "X = df['text']\n",
    "y = df['label']\n",
    "\n",
    "# Train Test Split \n",
    "X_train, X_test, y_train, y_test = train_test_split(X, y, test_size=0.2, random_state=42)\n",
    "\n",
    "# Print the shapes of the training and testing sets\n",
    "print(\"The shape of X_train is \", X_train.shape)\n",
    "print(\"The shape of X_test is \", X_test.shape)\n",
    "print(\"The shape of y_train is\", y_train.shape)\n",
    "print(\"The shape of y_test is\", y_test.shape)"
   ]
  },
  {
   "cell_type": "markdown",
   "id": "8f307544-7d81-4a6f-b2ec-05124dedab39",
   "metadata": {},
   "source": [
    "### Tokenization\n",
    "\n",
    "- Splitting all the input text in to words, even punctuation\n",
    "- Convert all the tokenized input into **numerical sequences**"
   ]
  },
  {
   "cell_type": "code",
   "execution_count": 8,
   "id": "ada2c4ba-afa6-4cb0-b77e-ad8ac563135c",
   "metadata": {},
   "outputs": [],
   "source": [
    "tokenizer = Tokenizer(num_words=60000)\n",
    "tokenizer.fit_on_texts(X_train)\n",
    "tokenizer.fit_on_texts(X_test)\n",
    "word_idx = tokenizer.word_index"
   ]
  },
  {
   "cell_type": "code",
   "execution_count": 9,
   "id": "eaa3d39f-7bf8-460e-aa59-aea30ffadf9e",
   "metadata": {},
   "outputs": [],
   "source": [
    "X_train_seq = tokenizer.texts_to_sequences(X_train)\n",
    "X_test_seq = tokenizer.texts_to_sequences(X_test)"
   ]
  },
  {
   "cell_type": "code",
   "execution_count": 10,
   "id": "b8ffa07e-b93e-4608-a51d-754080982297",
   "metadata": {},
   "outputs": [
    {
     "name": "stdout",
     "output_type": "stream",
     "text": [
      "117\n"
     ]
    }
   ],
   "source": [
    "maxlength = max(len(tokens) for tokens in X_train_seq)\n",
    "print(maxlength)"
   ]
  },
  {
   "cell_type": "markdown",
   "id": "9b6c03ac-f035-4f22-9754-6f7ef491a26a",
   "metadata": {},
   "source": [
    "### Padding Puzzle\n",
    "- Add padding to the converted sequences to make sure all the inputs will have the same lenght for LSTM"
   ]
  },
  {
   "cell_type": "code",
   "execution_count": 11,
   "id": "2d5c27b1-9db3-4e7f-b12e-103ae8045bf3",
   "metadata": {},
   "outputs": [],
   "source": [
    "X_train_padded = pad_sequences(X_train_seq, maxlen = maxlength, padding = \"post\")\n",
    "X_test_padded = pad_sequences(X_test_seq, maxlen = maxlength, padding = \"post\")"
   ]
  },
  {
   "cell_type": "code",
   "execution_count": 12,
   "id": "3562013f-f5cb-4cf9-b318-43a61681568e",
   "metadata": {},
   "outputs": [
    {
     "data": {
      "text/plain": [
       "60000"
      ]
     },
     "execution_count": 12,
     "metadata": {},
     "output_type": "execute_result"
    }
   ],
   "source": [
    "input_size = np.max(X_train_padded) + 1\n",
    "input_size"
   ]
  },
  {
   "cell_type": "markdown",
   "id": "0da6422d-d31f-4ba6-9b11-6e6c54d60af1",
   "metadata": {},
   "source": [
    "### Embeddings with FastText\n",
    "- Represent the number we converted from the tokens (with tokenization) with vectors\n",
    "- FastText\n",
    "    - Learns embeddings for character n-grams\n",
    "- The return of all these methods are usually a dictionary\n",
    "    - key: a word in the corpus\n",
    "    - value: a vector of size N"
   ]
  },
  {
   "cell_type": "code",
   "execution_count": 13,
   "id": "d19c99a0-aa18-4a6f-bc33-561115458cce",
   "metadata": {},
   "outputs": [],
   "source": [
    "def load_vectors(fname):\n",
    "    fin = io.open(\n",
    "        fname,\n",
    "        'r',\n",
    "        encoding = \"utf-8\",\n",
    "        newline = \"\\n\",\n",
    "        errors = \"ignore\"\n",
    "    )\n",
    "    n, d = map(int, fin.readline().split())\n",
    "    data = {}\n",
    "    for line in fin:\n",
    "        tokens = line.rstrip().split(' ')\n",
    "        data[tokens[0]] = list(map(float, tokens[1:]))\n",
    "    return data"
   ]
  },
  {
   "cell_type": "code",
   "execution_count": 14,
   "id": "56eea74f-bd01-4826-8149-2d903bd725dc",
   "metadata": {},
   "outputs": [
    {
     "name": "stdout",
     "output_type": "stream",
     "text": [
      "Embedding dimension: 300\n"
     ]
    }
   ],
   "source": [
    "# Load the vectors\n",
    "embeddings = load_vectors(\"crawl-300d-2M.vec\")\n",
    "\n",
    "# Get the first word in the embeddings dictionary to determine the embedding dimension\n",
    "first_word = next(iter(embeddings))\n",
    "embedding_dim = len(embeddings[first_word])\n",
    "\n",
    "print(f\"Embedding dimension: {embedding_dim}\")\n"
   ]
  },
  {
   "cell_type": "code",
   "execution_count": 15,
   "id": "06cdb3e0-1bba-4204-b545-ec539178203d",
   "metadata": {},
   "outputs": [],
   "source": [
    "embedding_matrix = np.zeros((len(word_idx) + 1, embedding_dim))"
   ]
  },
  {
   "cell_type": "code",
   "execution_count": 16,
   "id": "237fb589-8a46-47ec-a749-4f5bb096ecc5",
   "metadata": {},
   "outputs": [],
   "source": [
    "for word, idx in word_idx.items():\n",
    "    if embeddings.get(word):\n",
    "        embedding_matrix[idx] = embeddings[word]"
   ]
  },
  {
   "cell_type": "markdown",
   "id": "90e6a0bb-6a03-4216-85a6-d54dbf0feec2",
   "metadata": {},
   "source": [
    "### LSTM\n",
    "\n",
    "- Embedding Layer\n",
    "  - Weights: embedding_matrix\n",
    "  - input_length: maxlength after tokenization\n",
    "- Activation Function: Relu\n",
    "- Add a convolution layer and a Max Pooling layer to capture the relations in the input sequences and reduce the dimensionalities\n",
    "- LSTM: Bidirection LSTM"
   ]
  },
  {
   "cell_type": "code",
   "execution_count": 17,
   "id": "d81e17bd-8039-4153-aa5d-70592a3846f6",
   "metadata": {},
   "outputs": [
    {
     "name": "stdout",
     "output_type": "stream",
     "text": [
      "Epoch 1/30\n",
      "\u001b[1m11999/11999\u001b[0m \u001b[32m━━━━━━━━━━━━━━━━━━━━\u001b[0m\u001b[37m\u001b[0m \u001b[1m264s\u001b[0m 22ms/step - accuracy: 0.8628 - loss: 0.4292 - val_accuracy: 0.9012 - val_loss: 0.3480\n",
      "Epoch 2/30\n",
      "\u001b[1m11999/11999\u001b[0m \u001b[32m━━━━━━━━━━━━━━━━━━━━\u001b[0m\u001b[37m\u001b[0m \u001b[1m269s\u001b[0m 22ms/step - accuracy: 0.9028 - loss: 0.3314 - val_accuracy: 0.9006 - val_loss: 0.3330\n",
      "Epoch 3/30\n",
      "\u001b[1m11999/11999\u001b[0m \u001b[32m━━━━━━━━━━━━━━━━━━━━\u001b[0m\u001b[37m\u001b[0m \u001b[1m264s\u001b[0m 22ms/step - accuracy: 0.9038 - loss: 0.3301 - val_accuracy: 0.8999 - val_loss: 0.3450\n",
      "Epoch 4/30\n",
      "\u001b[1m11999/11999\u001b[0m \u001b[32m━━━━━━━━━━━━━━━━━━━━\u001b[0m\u001b[37m\u001b[0m \u001b[1m262s\u001b[0m 22ms/step - accuracy: 0.9039 - loss: 0.3316 - val_accuracy: 0.8999 - val_loss: 0.3678\n",
      "Epoch 5/30\n",
      "\u001b[1m11999/11999\u001b[0m \u001b[32m━━━━━━━━━━━━━━━━━━━━\u001b[0m\u001b[37m\u001b[0m \u001b[1m262s\u001b[0m 22ms/step - accuracy: 0.9028 - loss: 0.3400 - val_accuracy: 0.8970 - val_loss: 0.3896\n",
      "Epoch 6/30\n",
      "\u001b[1m11999/11999\u001b[0m \u001b[32m━━━━━━━━━━━━━━━━━━━━\u001b[0m\u001b[37m\u001b[0m \u001b[1m263s\u001b[0m 22ms/step - accuracy: 0.9031 - loss: 0.3412 - val_accuracy: 0.8971 - val_loss: 0.3752\n",
      "Epoch 7/30\n",
      "\u001b[1m11999/11999\u001b[0m \u001b[32m━━━━━━━━━━━━━━━━━━━━\u001b[0m\u001b[37m\u001b[0m \u001b[1m274s\u001b[0m 23ms/step - accuracy: 0.9037 - loss: 0.3411 - val_accuracy: 0.8960 - val_loss: 0.3793\n",
      "Epoch 8/30\n",
      "\u001b[1m11999/11999\u001b[0m \u001b[32m━━━━━━━━━━━━━━━━━━━━\u001b[0m\u001b[37m\u001b[0m \u001b[1m280s\u001b[0m 23ms/step - accuracy: 0.9036 - loss: 0.3467 - val_accuracy: 0.8967 - val_loss: 0.3711\n",
      "Epoch 9/30\n",
      "\u001b[1m11999/11999\u001b[0m \u001b[32m━━━━━━━━━━━━━━━━━━━━\u001b[0m\u001b[37m\u001b[0m \u001b[1m276s\u001b[0m 23ms/step - accuracy: 0.9040 - loss: 0.3448 - val_accuracy: 0.8952 - val_loss: 0.4167\n",
      "Epoch 10/30\n",
      "\u001b[1m11999/11999\u001b[0m \u001b[32m━━━━━━━━━━━━━━━━━━━━\u001b[0m\u001b[37m\u001b[0m \u001b[1m281s\u001b[0m 23ms/step - accuracy: 0.9026 - loss: 0.3537 - val_accuracy: 0.8923 - val_loss: 0.4290\n",
      "Epoch 11/30\n",
      "\u001b[1m11999/11999\u001b[0m \u001b[32m━━━━━━━━━━━━━━━━━━━━\u001b[0m\u001b[37m\u001b[0m \u001b[1m281s\u001b[0m 23ms/step - accuracy: 0.9011 - loss: 0.3602 - val_accuracy: 0.8932 - val_loss: 0.4083\n",
      "Epoch 12/30\n",
      "\u001b[1m11999/11999\u001b[0m \u001b[32m━━━━━━━━━━━━━━━━━━━━\u001b[0m\u001b[37m\u001b[0m \u001b[1m281s\u001b[0m 23ms/step - accuracy: 0.9032 - loss: 0.3568 - val_accuracy: 0.8940 - val_loss: 0.4062\n",
      "Epoch 13/30\n",
      "\u001b[1m11999/11999\u001b[0m \u001b[32m━━━━━━━━━━━━━━━━━━━━\u001b[0m\u001b[37m\u001b[0m \u001b[1m280s\u001b[0m 23ms/step - accuracy: 0.9025 - loss: 0.3618 - val_accuracy: 0.8909 - val_loss: 0.4027\n",
      "Epoch 14/30\n",
      "\u001b[1m11999/11999\u001b[0m \u001b[32m━━━━━━━━━━━━━━━━━━━━\u001b[0m\u001b[37m\u001b[0m \u001b[1m289s\u001b[0m 24ms/step - accuracy: 0.8996 - loss: 0.3634 - val_accuracy: 0.8876 - val_loss: 0.4150\n",
      "Epoch 15/30\n",
      "\u001b[1m11999/11999\u001b[0m \u001b[32m━━━━━━━━━━━━━━━━━━━━\u001b[0m\u001b[37m\u001b[0m \u001b[1m292s\u001b[0m 24ms/step - accuracy: 0.9011 - loss: 0.3668 - val_accuracy: 0.8928 - val_loss: 0.3922\n",
      "Epoch 16/30\n",
      "\u001b[1m11999/11999\u001b[0m \u001b[32m━━━━━━━━━━━━━━━━━━━━\u001b[0m\u001b[37m\u001b[0m \u001b[1m297s\u001b[0m 25ms/step - accuracy: 0.9030 - loss: 0.3627 - val_accuracy: 0.8919 - val_loss: 0.4259\n",
      "Epoch 17/30\n",
      "\u001b[1m11999/11999\u001b[0m \u001b[32m━━━━━━━━━━━━━━━━━━━━\u001b[0m\u001b[37m\u001b[0m \u001b[1m304s\u001b[0m 25ms/step - accuracy: 0.9037 - loss: 0.3606 - val_accuracy: 0.8923 - val_loss: 0.3892\n",
      "Epoch 18/30\n",
      "\u001b[1m11999/11999\u001b[0m \u001b[32m━━━━━━━━━━━━━━━━━━━━\u001b[0m\u001b[37m\u001b[0m \u001b[1m306s\u001b[0m 26ms/step - accuracy: 0.9032 - loss: 0.3648 - val_accuracy: 0.8950 - val_loss: 0.4137\n",
      "Epoch 19/30\n",
      "\u001b[1m11999/11999\u001b[0m \u001b[32m━━━━━━━━━━━━━━━━━━━━\u001b[0m\u001b[37m\u001b[0m \u001b[1m301s\u001b[0m 25ms/step - accuracy: 0.9032 - loss: 0.3665 - val_accuracy: 0.8918 - val_loss: 0.4128\n",
      "Epoch 20/30\n",
      "\u001b[1m11999/11999\u001b[0m \u001b[32m━━━━━━━━━━━━━━━━━━━━\u001b[0m\u001b[37m\u001b[0m \u001b[1m307s\u001b[0m 26ms/step - accuracy: 0.9050 - loss: 0.3584 - val_accuracy: 0.8915 - val_loss: 0.4153\n",
      "Epoch 21/30\n",
      "\u001b[1m11999/11999\u001b[0m \u001b[32m━━━━━━━━━━━━━━━━━━━━\u001b[0m\u001b[37m\u001b[0m \u001b[1m307s\u001b[0m 26ms/step - accuracy: 0.9037 - loss: 0.3680 - val_accuracy: 0.8892 - val_loss: 0.4007\n",
      "Epoch 22/30\n",
      "\u001b[1m11999/11999\u001b[0m \u001b[32m━━━━━━━━━━━━━━━━━━━━\u001b[0m\u001b[37m\u001b[0m \u001b[1m309s\u001b[0m 26ms/step - accuracy: 0.9033 - loss: 0.3670 - val_accuracy: 0.8887 - val_loss: 0.4216\n",
      "Epoch 23/30\n",
      "\u001b[1m11999/11999\u001b[0m \u001b[32m━━━━━━━━━━━━━━━━━━━━\u001b[0m\u001b[37m\u001b[0m \u001b[1m289s\u001b[0m 24ms/step - accuracy: 0.9031 - loss: 0.3682 - val_accuracy: 0.8900 - val_loss: 0.4178\n",
      "Epoch 24/30\n",
      "\u001b[1m11999/11999\u001b[0m \u001b[32m━━━━━━━━━━━━━━━━━━━━\u001b[0m\u001b[37m\u001b[0m \u001b[1m318s\u001b[0m 26ms/step - accuracy: 0.9027 - loss: 0.3696 - val_accuracy: 0.8862 - val_loss: 0.4688\n",
      "Epoch 25/30\n",
      "\u001b[1m11999/11999\u001b[0m \u001b[32m━━━━━━━━━━━━━━━━━━━━\u001b[0m\u001b[37m\u001b[0m \u001b[1m324s\u001b[0m 27ms/step - accuracy: 0.9025 - loss: 0.3748 - val_accuracy: 0.8922 - val_loss: 0.4179\n",
      "Epoch 26/30\n",
      "\u001b[1m11999/11999\u001b[0m \u001b[32m━━━━━━━━━━━━━━━━━━━━\u001b[0m\u001b[37m\u001b[0m \u001b[1m290s\u001b[0m 24ms/step - accuracy: 0.9026 - loss: 0.3687 - val_accuracy: 0.8915 - val_loss: 0.4215\n",
      "Epoch 27/30\n",
      "\u001b[1m11999/11999\u001b[0m \u001b[32m━━━━━━━━━━━━━━━━━━━━\u001b[0m\u001b[37m\u001b[0m \u001b[1m326s\u001b[0m 27ms/step - accuracy: 0.9029 - loss: 0.3689 - val_accuracy: 0.8895 - val_loss: 0.4074\n",
      "Epoch 28/30\n",
      "\u001b[1m11999/11999\u001b[0m \u001b[32m━━━━━━━━━━━━━━━━━━━━\u001b[0m\u001b[37m\u001b[0m \u001b[1m321s\u001b[0m 27ms/step - accuracy: 0.9028 - loss: 0.3761 - val_accuracy: 0.8896 - val_loss: 0.4851\n",
      "Epoch 29/30\n",
      "\u001b[1m11999/11999\u001b[0m \u001b[32m━━━━━━━━━━━━━━━━━━━━\u001b[0m\u001b[37m\u001b[0m \u001b[1m297s\u001b[0m 25ms/step - accuracy: 0.9023 - loss: 0.3782 - val_accuracy: 0.8894 - val_loss: 0.4366\n",
      "Epoch 30/30\n",
      "\u001b[1m11999/11999\u001b[0m \u001b[32m━━━━━━━━━━━━━━━━━━━━\u001b[0m\u001b[37m\u001b[0m \u001b[1m289s\u001b[0m 24ms/step - accuracy: 0.9034 - loss: 0.3760 - val_accuracy: 0.8895 - val_loss: 0.4325\n"
     ]
    }
   ],
   "source": [
    "model = Sequential([Embedding(len(word_idx) + 1, \n",
    "                              embedding_dim, input_length = maxlength,\n",
    "                              weights = [embedding_matrix], trainable = False), \n",
    "                   Dropout(0,1), \n",
    "                   Conv1D(128, 5, activation = 'relu'),\n",
    "                   MaxPooling1D(pool_size = 5),\n",
    "                   Bidirectional(LSTM(64)),\n",
    "                   Dropout(0.1),\n",
    "                   Dense(512, activation = 'relu'),\n",
    "                   Dropout(0.1),\n",
    "                   Dense(len(y.unique()), activation = 'softmax')])\n",
    "\n",
    "model.compile(loss = 'sparse_categorical_crossentropy',\n",
    "             optimizer = RMSprop(0.002),\n",
    "             metrics = ['accuracy'])\n",
    "\n",
    "history = model.fit(X_train_padded, y_train, \n",
    "                    epochs = 30, \n",
    "                    validation_data = (X_test_padded, y_test))"
   ]
  },
  {
   "cell_type": "markdown",
   "id": "d77033a2-5ff7-47a8-9939-5f6bc0818a69",
   "metadata": {},
   "source": []
  },
  {
   "cell_type": "code",
   "execution_count": 18,
   "id": "6a1b0f2e-9b23-41c7-b1e5-de91e54fbd55",
   "metadata": {},
   "outputs": [
    {
     "data": {
      "image/png": "[encoded data removed]",
      "text/plain": [
       "<Figure size 640x480 with 1 Axes>"
      ]
     },
     "metadata": {},
     "output_type": "display_data"
    }
   ],
   "source": [
    "epochs = [*range(30)]\n",
    "\n",
    "acc = history.history['accuracy']\n",
    "val_acc = history.history['val_accuracy']\n",
    "plt.plot(epochs, acc, 'r')\n",
    "plt.plot(epochs, val_acc, 'b')\n",
    "plt.title('Training and validation accuracy')\n",
    "plt.xlabel(\"Epochs\")\n",
    "plt.ylabel(\"Accuracy\")\n",
    "plt.legend([\"Accuracy\", \"Validation Accuracy\"])\n",
    "plt.show()"
   ]
  },
  {
   "cell_type": "code",
   "execution_count": 19,
   "id": "c217c7f4-ddd9-43b9-82d9-44ead489e5a4",
   "metadata": {},
   "outputs": [
    {
     "name": "stdout",
     "output_type": "stream",
     "text": [
      "\u001b[1m3000/3000\u001b[0m \u001b[32m━━━━━━━━━━━━━━━━━━━━\u001b[0m\u001b[37m\u001b[0m \u001b[1m25s\u001b[0m 8ms/step\n",
      "Classification report:\n",
      "               precision    recall  f1-score   support\n",
      "\n",
      "           0       0.85      0.78      0.81     13125\n",
      "           1       0.97      0.84      0.90      9373\n",
      "           2       0.92      0.91      0.91     29756\n",
      "           3       0.81      0.92      0.86     19426\n",
      "           4       0.92      0.93      0.92     24308\n",
      "\n",
      "    accuracy                           0.89     95988\n",
      "   macro avg       0.89      0.87      0.88     95988\n",
      "weighted avg       0.89      0.89      0.89     95988\n",
      "\n"
     ]
    }
   ],
   "source": [
    "y_pred = model.predict(X_test_padded)\n",
    "y_pred = np.argmax(y_pred, axis=1)\n",
    "print(\"Classification report:\\n\", classification_report(y_test, y_pred))"
   ]
  },
  {
   "cell_type": "code",
   "execution_count": 20,
   "id": "aeb2f6a5-e4d2-4d54-815c-09e427171b07",
   "metadata": {},
   "outputs": [
    {
     "name": "stderr",
     "output_type": "stream",
     "text": [
      "WARNING:absl:You are saving your model as an HDF5 file via `model.save()` or `keras.saving.save_model(model)`. This file format is considered legacy. We recommend using instead the native Keras format, e.g. `model.save('my_model.keras')` or `keras.saving.save_model(model, 'my_model.keras')`. \n"
     ]
    }
   ],
   "source": [
    "model.save(\"LSTM_emotion_model.h5\")\n"
   ]
  },
  {
   "cell_type": "code",
   "execution_count": 21,
   "id": "8f4a00e2-ca8a-4b94-be55-fa932485bd72",
   "metadata": {},
   "outputs": [],
   "source": [
    "model.save(\"LSTM_emotion_model.keras\")\n"
   ]
  },
  {
   "cell_type": "code",
   "execution_count": 23,
   "id": "2c5d44d7-4668-42ef-9cc7-4cdb31844f4c",
   "metadata": {},
   "outputs": [],
   "source": [
    "import pickle\n",
    "\n",
    "with open('tokenizer.pickle', 'wb') as handle:\n",
    "    pickle.dump(tokenizer, handle, protocol=pickle.HIGHEST_PROTOCOL)\n"
   ]
  },
  {
   "cell_type": "code",
   "execution_count": null,
   "id": "145828bf-ef94-4fe7-ab93-9a1cd4184f6f",
   "metadata": {},
   "outputs": [],
   "source": []
  },
  {
   "cell_type": "code",
   "execution_count": null,
   "id": "51a460c6-df24-423d-a55e-13e278d62f8c",
   "metadata": {},
   "outputs": [],
   "source": []
  }
 ],
 "metadata": {
  "kernelspec": {
   "display_name": "Python 3 (ipykernel)",
   "language": "python",
   "name": "python3"
  },
  "language_info": {
   "codemirror_mode": {
    "name": "ipython",
    "version": 3
   },
   "file_extension": ".py",
   "mimetype": "text/x-python",
   "name": "python",
   "nbconvert_exporter": "python",
   "pygments_lexer": "ipython3",
   "version": "3.12.1"
  }
 },
 "nbformat": 4,
 "nbformat_minor": 5
}
